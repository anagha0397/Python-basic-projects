{
 "cells": [
  {
   "cell_type": "code",
   "execution_count": 3,
   "metadata": {
    "colab": {
     "base_uri": "https://localhost:8080/"
    },
    "id": "h41bx5zCK2gd",
    "outputId": "73a8be19-1f39-40bc-e996-1d9d015ff7d4"
   },
   "outputs": [
    {
     "name": "stdout",
     "output_type": "stream",
     "text": [
      "Hi! What is your name?\n",
      "Anagha \n",
      "Well Anagha , I was thinking of a random number between 1 and 15. Can you guess that number? If you are interested: \n",
      "Please guess a number.\n",
      "5\n",
      "The number is too low.\n",
      "Please guess a number.\n",
      "6\n",
      "The number is too low.\n",
      "Please guess a number.\n",
      "9\n",
      "The number is too low.\n",
      "Please guess a number.\n",
      "10\n",
      "The number is too low.\n",
      "Please guess a number.\n",
      "12\n",
      "Great job, Anagha ! You made the right guess.\n",
      "You guessed my number in 5 guesses.\n"
     ]
    }
   ],
   "source": [
    "import random\n",
    "print('Hi! What is your name?')\n",
    "name= input()\n",
    "print('Well ' + str(name) + ', I was thinking of a random number between 1 and 15. Can you guess that number? If you are interested: ')\n",
    "\n",
    "computerNumber= random.randint(1, 15)\n",
    "\n",
    "for guessedNumber in range(1, 7):\n",
    "    print('Please guess a number.')\n",
    "    guess= input()\n",
    "    if int(guess) < computerNumber:\n",
    "        print('The number is too low.')\n",
    "    elif int(guess) > computerNumber:\n",
    "        print('The number is too high.')\n",
    "    else:\n",
    "        break # If the guess is correct.\n",
    "if int(guess) == computerNumber:\n",
    "    print('Great job, ' + str(name) + '! You made the right guess.')\n",
    "    print('You guessed my number in ' + str(guessedNumber) + ' guesses.')\n",
    "else:\n",
    "    print('Nope! The number I was thinking of was ' + str(computerNumber) + '.')"
   ]
  },
  {
   "cell_type": "code",
   "execution_count": null,
   "metadata": {
    "id": "H1vrfjTKK5SZ"
   },
   "outputs": [],
   "source": []
  }
 ],
 "metadata": {
  "colab": {
   "collapsed_sections": [],
   "name": "Number_guesser",
   "provenance": []
  },
  "kernelspec": {
   "display_name": "Python 3 (ipykernel)",
   "language": "python",
   "name": "python3"
  },
  "language_info": {
   "codemirror_mode": {
    "name": "ipython",
    "version": 3
   },
   "file_extension": ".py",
   "mimetype": "text/x-python",
   "name": "python",
   "nbconvert_exporter": "python",
   "pygments_lexer": "ipython3",
   "version": "3.9.7"
  }
 },
 "nbformat": 4,
 "nbformat_minor": 1
}
