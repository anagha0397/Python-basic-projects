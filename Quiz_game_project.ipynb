{
 "cells": [
  {
   "cell_type": "markdown",
   "id": "579b2b98",
   "metadata": {},
   "source": [
    "# Quiz game"
   ]
  },
  {
   "cell_type": "code",
   "execution_count": 1,
   "id": "2e0d3984",
   "metadata": {},
   "outputs": [
    {
     "name": "stdout",
     "output_type": "stream",
     "text": [
      "Welcome to computer quiz game!\n"
     ]
    }
   ],
   "source": [
    "print(\"Welcome to computer quiz game!\")"
   ]
  },
  {
   "cell_type": "code",
   "execution_count": 2,
   "id": "bb596a8d",
   "metadata": {},
   "outputs": [
    {
     "name": "stdout",
     "output_type": "stream",
     "text": [
      "Do you want to play? yes\n"
     ]
    }
   ],
   "source": [
    "playing = input(\"Do you want to play? \").lower()"
   ]
  },
  {
   "cell_type": "code",
   "execution_count": 3,
   "id": "f60d8227",
   "metadata": {},
   "outputs": [
    {
     "name": "stdout",
     "output_type": "stream",
     "text": [
      "OKAY! let's Play :)\n"
     ]
    }
   ],
   "source": [
    "if playing != \"yes\":\n",
    "    quit()\n",
    "print(\"OKAY! let's Play :)\")\n",
    "score = 0"
   ]
  },
  {
   "cell_type": "code",
   "execution_count": 4,
   "id": "0f4486ef",
   "metadata": {},
   "outputs": [
    {
     "name": "stdout",
     "output_type": "stream",
     "text": [
      "What does CPU stands for? cghj\n",
      "Incorrect!\n"
     ]
    }
   ],
   "source": [
    "answer = input(\"What does CPU stands for? \").lower()\n",
    "\n",
    "if answer == \"central processing unit\":\n",
    "    print(\"Correct!\")\n",
    "    score += 1\n",
    "else:\n",
    "    print(\"Incorrect!\")\n",
    "    "
   ]
  },
  {
   "cell_type": "code",
   "execution_count": 5,
   "id": "44c589f5",
   "metadata": {},
   "outputs": [
    {
     "name": "stdout",
     "output_type": "stream",
     "text": [
      "What does GPU stands for? bshh\n",
      "Incorrect!\n"
     ]
    }
   ],
   "source": [
    "answer = input(\"What does GPU stands for? \").lower()\n",
    "\n",
    "if answer == \"graphics processing unit\":\n",
    "    print(\"Correct!\")\n",
    "    score += 1\n",
    "else:\n",
    "    print(\"Incorrect!\")"
   ]
  },
  {
   "cell_type": "code",
   "execution_count": 6,
   "id": "89590c48",
   "metadata": {},
   "outputs": [
    {
     "name": "stdout",
     "output_type": "stream",
     "text": [
      "What does RAM stands for? bsygx\n",
      "Incorrect!\n"
     ]
    }
   ],
   "source": [
    "answer = input(\"What does RAM stands for? \").lower()\n",
    "\n",
    "if answer == \"random access memory\":\n",
    "    print(\"Correct!\")\n",
    "    score += 1\n",
    "else:\n",
    "    print(\"Incorrect!\")"
   ]
  },
  {
   "cell_type": "code",
   "execution_count": 7,
   "id": "27c42c9b",
   "metadata": {},
   "outputs": [
    {
     "name": "stdout",
     "output_type": "stream",
     "text": [
      "What does HD stands for in computers? hbshxb\n",
      "Incorrect!\n"
     ]
    }
   ],
   "source": [
    "answer = input(\"What does HD stands for in computers? \").lower()\n",
    "\n",
    "if answer == \"hard disk\":\n",
    "    print(\"Correct!\")\n",
    "    score += 1\n",
    "else:\n",
    "    print(\"Incorrect!\")"
   ]
  },
  {
   "cell_type": "code",
   "execution_count": 8,
   "id": "f6f90111",
   "metadata": {},
   "outputs": [
    {
     "name": "stdout",
     "output_type": "stream",
     "text": [
      "What does PSU stands for? sbxhb\n",
      "Incorrect!\n"
     ]
    }
   ],
   "source": [
    "answer = input(\"What does PSU stands for? \").lower()\n",
    "\n",
    "if answer == \"power supply unit\":\n",
    "    print(\"Correct!\")\n",
    "    score += 1\n",
    "else:\n",
    "    print(\"Incorrect!\")"
   ]
  },
  {
   "cell_type": "code",
   "execution_count": 9,
   "id": "a23f1136",
   "metadata": {},
   "outputs": [
    {
     "name": "stdout",
     "output_type": "stream",
     "text": [
      "You got 0 questions correct\n"
     ]
    }
   ],
   "source": [
    "print(\"You got \" + str(score) + \" questions correct\")"
   ]
  },
  {
   "cell_type": "code",
   "execution_count": 10,
   "id": "cb03e66b",
   "metadata": {},
   "outputs": [
    {
     "name": "stdout",
     "output_type": "stream",
     "text": [
      "You got 0.0 %\n"
     ]
    }
   ],
   "source": [
    "print(\"You got \" + str((score/5) * 100) + \" %\")"
   ]
  },
  {
   "cell_type": "code",
   "execution_count": null,
   "id": "83f16d2a",
   "metadata": {},
   "outputs": [],
   "source": []
  }
 ],
 "metadata": {
  "kernelspec": {
   "display_name": "Python 3 (ipykernel)",
   "language": "python",
   "name": "python3"
  },
  "language_info": {
   "codemirror_mode": {
    "name": "ipython",
    "version": 3
   },
   "file_extension": ".py",
   "mimetype": "text/x-python",
   "name": "python",
   "nbconvert_exporter": "python",
   "pygments_lexer": "ipython3",
   "version": "3.9.7"
  },
  "toc": {
   "base_numbering": 1,
   "nav_menu": {},
   "number_sections": true,
   "sideBar": true,
   "skip_h1_title": false,
   "title_cell": "Table of Contents",
   "title_sidebar": "Contents",
   "toc_cell": false,
   "toc_position": {},
   "toc_section_display": true,
   "toc_window_display": false
  }
 },
 "nbformat": 4,
 "nbformat_minor": 5
}
